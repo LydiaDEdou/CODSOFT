{
  "nbformat": 4,
  "nbformat_minor": 0,
  "metadata": {
    "colab": {
      "provenance": [],
      "authorship_tag": "ABX9TyPPPnpSEMxcFfUrFTvGQfJq",
      "include_colab_link": true
    },
    "kernelspec": {
      "name": "python3",
      "display_name": "Python 3"
    },
    "language_info": {
      "name": "python"
    }
  },
  "cells": [
    {
      "cell_type": "markdown",
      "metadata": {
        "id": "view-in-github",
        "colab_type": "text"
      },
      "source": [
        "<a href=\"https://colab.research.google.com/github/LydiaDEdou/CODSOFT/blob/main/AI_Task_TIC_TAC_TOE.ipynb\" target=\"_parent\"><img src=\"https://colab.research.google.com/assets/colab-badge.svg\" alt=\"Open In Colab\"/></a>"
      ]
    },
    {
      "cell_type": "code",
      "source": [
        "class TicTacToe:\n",
        "    def __init__(self):\n",
        "        self.board = [[' ' for _ in range(3)] for _ in range(3)]\n",
        "        self.current_winner = None\n",
        "\n",
        "    def print_board(self):\n",
        "        for row in self.board:\n",
        "            print('| ' + ' | '.join(row) + ' |')\n",
        "        print()\n",
        "\n",
        "    def available_moves(self):\n",
        "        return [(r, c) for r in range(3) for c in range(3) if self.board[r][c] == ' ']\n",
        "\n",
        "    def empty_squares(self):\n",
        "        return ' ' in [square for row in self.board for square in row]\n",
        "\n",
        "    def make_move(self, row, col, letter):\n",
        "        if self.board[row][col] == ' ':\n",
        "            self.board[row][col] = letter\n",
        "            if self.winner(row, col, letter):\n",
        "                self.current_winner = letter\n",
        "            return True\n",
        "        return False\n",
        "\n",
        "    def winner(self, row, col, letter):\n",
        "        # Check the row\n",
        "        if all([self.board[row][c] == letter for c in range(3)]):\n",
        "            return True\n",
        "        # Check the column\n",
        "        if all([self.board[r][col] == letter for r in range(3)]):\n",
        "            return True\n",
        "        # Check diagonals\n",
        "        if row == col and all([self.board[i][i] == letter for i in range(3)]):\n",
        "            return True\n",
        "        if row + col == 2 and all([self.board[i][2 - i] == letter for i in range(3)]):\n",
        "            return True\n",
        "        return False\n"
      ],
      "metadata": {
        "id": "NOAVch_8Txa0"
      },
      "execution_count": 10,
      "outputs": []
    },
    {
      "cell_type": "code",
      "source": [
        "def minimax(board, depth, alpha, beta, maximizing):\n",
        "    if board.current_winner == 'O':\n",
        "        return {'position': None, 'score': 1 * (len(board.available_moves()) + 1)}\n",
        "    elif board.current_winner == 'X':\n",
        "        return {'position': None, 'score': -1 * (len(board.available_moves()) + 1)}\n",
        "    elif not board.empty_squares():\n",
        "        return {'position': None, 'score': 0}\n",
        "\n",
        "    if maximizing:\n",
        "        max_eval = {'position': None, 'score': -float('inf')}\n",
        "        for move in board.available_moves():\n",
        "            board.make_move(move[0], move[1], 'O')\n",
        "            sim_eval = minimax(board, depth - 1, alpha, beta, False)\n",
        "            board.board[move[0]][move[1]] = ' '\n",
        "            board.current_winner = None\n",
        "            sim_eval['position'] = move\n",
        "            if sim_eval['score'] > max_eval['score']:\n",
        "                max_eval = sim_eval\n",
        "            alpha = max(alpha, sim_eval['score'])\n",
        "            if beta <= alpha:\n",
        "                break\n",
        "        return max_eval\n",
        "    else:\n",
        "        min_eval = {'position': None, 'score': float('inf')}\n",
        "        for move in board.available_moves():\n",
        "            board.make_move(move[0], move[1], 'X')\n",
        "            sim_eval = minimax(board, depth - 1, alpha, beta, True)\n",
        "            board.board[move[0]][move[1]] = ' '\n",
        "            board.current_winner = None\n",
        "            sim_eval['position'] = move\n",
        "            if sim_eval['score'] < min_eval['score']:\n",
        "                min_eval = sim_eval\n",
        "            beta = min(beta, sim_eval['score'])\n",
        "            if beta <= alpha:\n",
        "                break\n",
        "        return min_eval\n"
      ],
      "metadata": {
        "id": "M7pO1EdcVZy2"
      },
      "execution_count": 11,
      "outputs": []
    },
    {
      "cell_type": "code",
      "source": [
        "def play_game():\n",
        "    game = TicTacToe()\n",
        "    human_letter = 'X'\n",
        "    ai_letter = 'O'\n",
        "    current_letter = human_letter  # The human player starts first\n",
        "\n",
        "    game.print_board()\n",
        "\n",
        "    while game.empty_squares():\n",
        "        if game.current_winner:\n",
        "            print(game.current_winner + ' wins!')\n",
        "            return\n",
        "\n",
        "        if current_letter == human_letter:\n",
        "            move = None\n",
        "            while move not in game.available_moves():\n",
        "                try:\n",
        "                    row = int(input('Enter the row (0, 1, 2): '))\n",
        "                    col = int(input('Enter the col (0, 1, 2): '))\n",
        "                    move = (row, col)\n",
        "                    if move not in game.available_moves():\n",
        "                        print(\"Invalid move, try again.\")\n",
        "                except ValueError:\n",
        "                    print(\"Invalid input, enter numbers only.\")\n",
        "            game.make_move(row, col, human_letter)\n",
        "        else:\n",
        "            print('AI is thinking...')\n",
        "            move = minimax(game, 0, -float('inf'), float('inf'), True)['position']\n",
        "            game.make_move(move[0], move[1], ai_letter)\n",
        "\n",
        "        game.print_board()\n",
        "        current_letter = ai_letter if current_letter == human_letter else human_letter\n",
        "\n",
        "    if not game.current_winner:\n",
        "        print('It\\'s a tie!')\n",
        "\n",
        "play_game()\n"
      ],
      "metadata": {
        "colab": {
          "base_uri": "https://localhost:8080/"
        },
        "id": "ynePuphJVcKB",
        "outputId": "330c06c2-d444-4bb9-d627-74abae384430"
      },
      "execution_count": 12,
      "outputs": [
        {
          "output_type": "stream",
          "name": "stdout",
          "text": [
            "|   |   |   |\n",
            "|   |   |   |\n",
            "|   |   |   |\n",
            "\n",
            "Enter the row (0, 1, 2): 0\n",
            "Enter the col (0, 1, 2): 0\n",
            "| X |   |   |\n",
            "|   |   |   |\n",
            "|   |   |   |\n",
            "\n",
            "AI is thinking...\n",
            "| X |   |   |\n",
            "|   | O |   |\n",
            "|   |   |   |\n",
            "\n",
            "Enter the row (0, 1, 2): 1\n",
            "Enter the col (0, 1, 2): 2\n",
            "| X |   |   |\n",
            "|   | O | X |\n",
            "|   |   |   |\n",
            "\n",
            "AI is thinking...\n",
            "| X | O |   |\n",
            "|   | O | X |\n",
            "|   |   |   |\n",
            "\n",
            "Enter the row (0, 1, 2): 2\n",
            "Enter the col (0, 1, 2): 1\n",
            "| X | O |   |\n",
            "|   | O | X |\n",
            "|   | X |   |\n",
            "\n",
            "AI is thinking...\n",
            "| X | O |   |\n",
            "|   | O | X |\n",
            "| O | X |   |\n",
            "\n",
            "Enter the row (0, 1, 2): 1\n",
            "Enter the col (0, 1, 2): 2\n",
            "Invalid move, try again.\n",
            "Enter the row (0, 1, 2): 0\n",
            "Enter the col (0, 1, 2): 1\n",
            "Invalid move, try again.\n",
            "Enter the row (0, 1, 2): 0\n",
            "Enter the col (0, 1, 2): 2\n",
            "| X | O | X |\n",
            "|   | O | X |\n",
            "| O | X |   |\n",
            "\n",
            "AI is thinking...\n",
            "| X | O | X |\n",
            "|   | O | X |\n",
            "| O | X | O |\n",
            "\n",
            "Enter the row (0, 1, 2): 1\n",
            "Enter the col (0, 1, 2): 0\n",
            "| X | O | X |\n",
            "| X | O | X |\n",
            "| O | X | O |\n",
            "\n",
            "It's a tie!\n"
          ]
        }
      ]
    },
    {
      "cell_type": "code",
      "source": [
        "\n"
      ],
      "metadata": {
        "id": "NTDL18lbVelf"
      },
      "execution_count": null,
      "outputs": []
    }
  ]
}