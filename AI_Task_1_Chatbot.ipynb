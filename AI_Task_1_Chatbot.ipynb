{
  "nbformat": 4,
  "nbformat_minor": 0,
  "metadata": {
    "colab": {
      "provenance": [],
      "authorship_tag": "ABX9TyNHhAWMlLHr+I5QdH0bFbD6",
      "include_colab_link": true
    },
    "kernelspec": {
      "name": "python3",
      "display_name": "Python 3"
    },
    "language_info": {
      "name": "python"
    }
  },
  "cells": [
    {
      "cell_type": "markdown",
      "metadata": {
        "id": "view-in-github",
        "colab_type": "text"
      },
      "source": [
        "<a href=\"https://colab.research.google.com/github/LydiaDEdou/CODSOFT/blob/main/AI_Task_1_Chatbot.ipynb\" target=\"_parent\"><img src=\"https://colab.research.google.com/assets/colab-badge.svg\" alt=\"Open In Colab\"/></a>"
      ]
    },
    {
      "cell_type": "code",
      "source": [
        "from datetime import datetime\n",
        "\n",
        "# Dictionary to store questions and responses\n",
        "qa_dict = {\n",
        "    \"hi\": \"Hi there! I'm a friendly chatbot here to assist you.\",\n",
        "    \"hello\": \"Hello! How can I help you today?\",\n",
        "    \"what is your name\": \"I don't have a name, but you can call me ChatBot.\",\n",
        "    \"what is the date?\": \"I can't provide the date right now, but you can check your device's calendar.\",\n",
        "    \"tell me about your family\": \"As a chatbot, I don't have a family, but I'm here to help you!\",\n",
        "    \"how are you?\": \"I'm just a program, so I don't have feelings, but thanks for asking!\",\n",
        "    \"do you eat?\": \"I don't eat, but I can help you find recipes or restaurants!\",\n",
        "    \"do you travel?\": \"I don't travel, but I can help you find travel information.\",\n",
        "    \"do you have children?\": \"I don't have children, but I'm here to assist you with your queries.\",\n",
        "    \"what do you think about?\": \"I think about how to best assist you with your questions.\",\n",
        "    \"what is your life goal?\": \"My goal is to assist and provide information to you.\",\n",
        "    \"what is your education level?\": \"I don't have an education, but I'm programmed with lots of information to help you.\"\n",
        "}\n",
        "\n",
        "def get_response(user_input):\n",
        "    user_input = user_input.lower()\n",
        "    if user_input in qa_dict:\n",
        "        return qa_dict[user_input]\n",
        "    elif 'time' in user_input:\n",
        "        current_time = datetime.now().strftime(\"%H:%M\")\n",
        "        return f\"The current time is {current_time}.\"\n",
        "    else:\n",
        "        return \"I'm sorry, I don't understand your question.\"\n",
        "\n",
        "# Simulate chatbot interaction in Colab\n",
        "def chatbot_interaction():\n",
        "    print(\"Chatbot: Hello! How can I assist you today?\")\n",
        "    while True:\n",
        "        user_input = input(\"You: \").strip()\n",
        "        if user_input.lower() in [\"exit\", \"quit\", \"bye\"]:\n",
        "            print(\"Chatbot: Goodbye! Have a great day!\")\n",
        "            break\n",
        "        response = get_response(user_input)\n",
        "        print(f\"Chatbot: {response}\")\n",
        "\n",
        "# Run the chatbot interaction\n",
        "chatbot_interaction()\n"
      ],
      "metadata": {
        "colab": {
          "base_uri": "https://localhost:8080/"
        },
        "id": "FjfFdX4UER0V",
        "outputId": "8637bc0e-c4cb-42db-c6ae-de6d6fbfc342"
      },
      "execution_count": null,
      "outputs": [
        {
          "output_type": "stream",
          "name": "stdout",
          "text": [
            "Chatbot: Hello! How can I assist you today?\n",
            "You: hello\n",
            "Chatbot: Hello! How can I help you today?\n",
            "You: do you eat \n",
            "Chatbot: I'm sorry, I don't understand your question.\n",
            "You: do you eat ?\n",
            "Chatbot: I'm sorry, I don't understand your question.\n",
            "You: do you eat?\n",
            "Chatbot: I don't eat, but I can help you find recipes or restaurants!\n",
            "You: time \n",
            "Chatbot: The current time is 19:32.\n",
            "You: whet is the date?\n",
            "Chatbot: I'm sorry, I don't understand your question.\n",
            "You: what is the date?\n",
            "Chatbot: I can't provide the date right now, but you can check your device's calendar.\n",
            "You: do you travel?\n",
            "Chatbot: I don't travel, but I can help you find travel information.\n"
          ]
        }
      ]
    },
    {
      "cell_type": "code",
      "source": [],
      "metadata": {
        "id": "5BUck8gvFYvU"
      },
      "execution_count": null,
      "outputs": []
    }
  ]
}