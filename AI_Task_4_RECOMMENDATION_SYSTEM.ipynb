{
  "nbformat": 4,
  "nbformat_minor": 0,
  "metadata": {
    "colab": {
      "provenance": [],
      "authorship_tag": "ABX9TyO8A/xA+WbIzdy0BHsHWWwM",
      "include_colab_link": true
    },
    "kernelspec": {
      "name": "python3",
      "display_name": "Python 3"
    },
    "language_info": {
      "name": "python"
    }
  },
  "cells": [
    {
      "cell_type": "markdown",
      "metadata": {
        "id": "view-in-github",
        "colab_type": "text"
      },
      "source": [
        "<a href=\"https://colab.research.google.com/github/LydiaDEdou/CODSOFT/blob/main/AI_Task_4_RECOMMENDATION_SYSTEM.ipynb\" target=\"_parent\"><img src=\"https://colab.research.google.com/assets/colab-badge.svg\" alt=\"Open In Colab\"/></a>"
      ]
    },
    {
      "cell_type": "code",
      "execution_count": 18,
      "metadata": {
        "id": "2-8bBsyvAzaL"
      },
      "outputs": [],
      "source": [
        "import pandas as pd\n",
        "import matplotlib.pyplot as plt\n",
        "import seaborn as sns\n",
        "from sklearn.metrics.pairwise import cosine_similarity\n",
        "import numpy as np\n",
        "from sklearn.feature_extraction.text import TfidfVectorizer\n",
        "from sklearn.metrics.pairwise import linear_kernel"
      ]
    },
    {
      "cell_type": "markdown",
      "source": [
        "# **Exploratory Data Analysis (EDA)**"
      ],
      "metadata": {
        "id": "waOsEcvnNkv3"
      }
    },
    {
      "cell_type": "markdown",
      "source": [
        "**Load Data**"
      ],
      "metadata": {
        "id": "6gACfL08N0YR"
      }
    },
    {
      "cell_type": "code",
      "source": [
        "\n",
        "\n",
        "# Charger les jeux de données\n",
        "df_ratings = pd.read_csv('u.data', sep='\\t', names=['user_id', 'movie_id', 'rating', 'timestamp'])\n",
        "df_movies = pd.read_csv('u.item', sep='|', names=['movie_id', 'title'], usecols=[0, 1], encoding='latin-1')\n"
      ],
      "metadata": {
        "id": "5SPjFor9A0in"
      },
      "execution_count": 2,
      "outputs": []
    },
    {
      "cell_type": "markdown",
      "source": [
        "df_ratings : Contains the ratings given by users to movies.\n",
        "\n",
        "\n",
        "df_movies : Contains information about the movies."
      ],
      "metadata": {
        "id": "da8vhsLABxns"
      }
    },
    {
      "cell_type": "markdown",
      "source": [
        "**Data Overview**"
      ],
      "metadata": {
        "id": "KvP5_Ti0N8tY"
      }
    },
    {
      "cell_type": "code",
      "source": [
        "# Display first few rows of ratings\n",
        "print(df_ratings.head())\n",
        "\n",
        "# Display first few rows of movies\n",
        "print(df_movies.head())\n",
        "\n",
        "# Display info about ratings\n",
        "print(df_ratings.info())\n",
        "\n",
        "# Display info about movies\n",
        "print(df_movies.info())\n"
      ],
      "metadata": {
        "colab": {
          "base_uri": "https://localhost:8080/"
        },
        "id": "1EOQJ_CRCcgb",
        "outputId": "56456838-15e4-4941-896e-a651303f9002"
      },
      "execution_count": 3,
      "outputs": [
        {
          "output_type": "stream",
          "name": "stdout",
          "text": [
            "   user_id  movie_id  rating  timestamp\n",
            "0      196       242       3  881250949\n",
            "1      186       302       3  891717742\n",
            "2       22       377       1  878887116\n",
            "3      244        51       2  880606923\n",
            "4      166       346       1  886397596\n",
            "   movie_id              title\n",
            "0         1   Toy Story (1995)\n",
            "1         2   GoldenEye (1995)\n",
            "2         3  Four Rooms (1995)\n",
            "3         4  Get Shorty (1995)\n",
            "4         5     Copycat (1995)\n",
            "<class 'pandas.core.frame.DataFrame'>\n",
            "RangeIndex: 100000 entries, 0 to 99999\n",
            "Data columns (total 4 columns):\n",
            " #   Column     Non-Null Count   Dtype\n",
            "---  ------     --------------   -----\n",
            " 0   user_id    100000 non-null  int64\n",
            " 1   movie_id   100000 non-null  int64\n",
            " 2   rating     100000 non-null  int64\n",
            " 3   timestamp  100000 non-null  int64\n",
            "dtypes: int64(4)\n",
            "memory usage: 3.1 MB\n",
            "None\n",
            "<class 'pandas.core.frame.DataFrame'>\n",
            "RangeIndex: 1682 entries, 0 to 1681\n",
            "Data columns (total 2 columns):\n",
            " #   Column    Non-Null Count  Dtype \n",
            "---  ------    --------------  ----- \n",
            " 0   movie_id  1682 non-null   int64 \n",
            " 1   title     1682 non-null   object\n",
            "dtypes: int64(1), object(1)\n",
            "memory usage: 26.4+ KB\n",
            "None\n"
          ]
        }
      ]
    },
    {
      "cell_type": "code",
      "source": [
        "print(df_ratings.shape)"
      ],
      "metadata": {
        "colab": {
          "base_uri": "https://localhost:8080/"
        },
        "id": "X4edDmUnOfYn",
        "outputId": "02ea7a06-6288-45cb-a6d8-819a6ce602de"
      },
      "execution_count": 4,
      "outputs": [
        {
          "output_type": "stream",
          "name": "stdout",
          "text": [
            "(100000, 4)\n"
          ]
        }
      ]
    },
    {
      "cell_type": "markdown",
      "source": [
        "**Descriptive Statistics**"
      ],
      "metadata": {
        "id": "ISFFafaTOUtY"
      }
    },
    {
      "cell_type": "code",
      "source": [
        "# Descriptive statistics of ratings\n",
        "print(df_ratings.describe())\n",
        "\n",
        "# Number of unique users and movies\n",
        "num_users = df_ratings['user_id'].nunique()\n",
        "num_movies = df_ratings['movie_id'].nunique()\n",
        "print(f\"Number of unique users: {num_users}\")\n",
        "print(f\"Number of unique movies: {num_movies}\")\n"
      ],
      "metadata": {
        "colab": {
          "base_uri": "https://localhost:8080/"
        },
        "id": "bGC9wxsbCnhy",
        "outputId": "3f2fad46-0f11-4d66-eac3-a8ccc361aa36"
      },
      "execution_count": 5,
      "outputs": [
        {
          "output_type": "stream",
          "name": "stdout",
          "text": [
            "            user_id       movie_id         rating     timestamp\n",
            "count  100000.00000  100000.000000  100000.000000  1.000000e+05\n",
            "mean      462.48475     425.530130       3.529860  8.835289e+08\n",
            "std       266.61442     330.798356       1.125674  5.343856e+06\n",
            "min         1.00000       1.000000       1.000000  8.747247e+08\n",
            "25%       254.00000     175.000000       3.000000  8.794487e+08\n",
            "50%       447.00000     322.000000       4.000000  8.828269e+08\n",
            "75%       682.00000     631.000000       4.000000  8.882600e+08\n",
            "max       943.00000    1682.000000       5.000000  8.932866e+08\n",
            "Number of unique users: 943\n",
            "Number of unique movies: 1682\n"
          ]
        }
      ]
    },
    {
      "cell_type": "markdown",
      "source": [
        "**Rating Distribution**"
      ],
      "metadata": {
        "id": "HUvAgJIxO54J"
      }
    },
    {
      "cell_type": "code",
      "source": [
        "\n",
        "plt.figure(figsize=(10, 6))\n",
        "sns.histplot(df_ratings['rating'], bins=5, kde=True)\n",
        "plt.title('Rating Distribution')\n",
        "plt.xlabel('Rating')\n",
        "plt.ylabel('Number of Ratings')\n",
        "plt.show()\n"
      ],
      "metadata": {
        "colab": {
          "base_uri": "https://localhost:8080/",
          "height": 564
        },
        "id": "9ijHZSPECuEQ",
        "outputId": "457e193f-3ae4-4766-e4af-22cead09ad96"
      },
      "execution_count": 7,
      "outputs": [
        {
          "output_type": "display_data",
          "data": {
            "text/plain": [
              "<Figure size 1000x600 with 1 Axes>"
            ],
            "image/png": "[encoded data removed]"
          },
          "metadata": {}
        }
      ]
    },
    {
      "cell_type": "markdown",
      "source": [
        "**Top Rated Movies**"
      ],
      "metadata": {
        "id": "Acta4xY6PFnQ"
      }
    },
    {
      "cell_type": "code",
      "source": [
        "# Count ratings per movie\n",
        "movie_rating_counts = df_ratings['movie_id'].value_counts().head(10)\n",
        "top_rated_movies = df_movies[df_movies['movie_id'].isin(movie_rating_counts.index)]\n",
        "\n",
        "# Display top rated movies\n",
        "print(top_rated_movies.merge(movie_rating_counts, left_on='movie_id', right_index=True))\n",
        "\n"
      ],
      "metadata": {
        "colab": {
          "base_uri": "https://localhost:8080/"
        },
        "id": "U29V4pAvEnPT",
        "outputId": "111c41d1-be6a-4670-942a-01051f8fd0a8"
      },
      "execution_count": 8,
      "outputs": [
        {
          "output_type": "stream",
          "name": "stdout",
          "text": [
            "     movie_id                          title  count\n",
            "0           1               Toy Story (1995)    452\n",
            "49         50               Star Wars (1977)    583\n",
            "99        100                   Fargo (1996)    508\n",
            "120       121  Independence Day (ID4) (1996)    429\n",
            "180       181      Return of the Jedi (1983)    507\n",
            "257       258                 Contact (1997)    509\n",
            "285       286    English Patient, The (1996)    481\n",
            "287       288                  Scream (1996)    478\n",
            "293       294               Liar Liar (1997)    485\n",
            "299       300           Air Force One (1997)    431\n"
          ]
        }
      ]
    },
    {
      "cell_type": "markdown",
      "source": [
        "**Most Active Users**"
      ],
      "metadata": {
        "id": "AkkqtbUXPl93"
      }
    },
    {
      "cell_type": "code",
      "source": [
        "# Count ratings per user\n",
        "user_rating_counts = df_ratings['user_id'].value_counts().head(10)\n",
        "\n",
        "# Display most active users\n",
        "print(user_rating_counts)\n"
      ],
      "metadata": {
        "colab": {
          "base_uri": "https://localhost:8080/"
        },
        "id": "GLzOuChSPoEL",
        "outputId": "8dcb36a5-97c9-4d9c-b25f-5e8af7762a8c"
      },
      "execution_count": 9,
      "outputs": [
        {
          "output_type": "stream",
          "name": "stdout",
          "text": [
            "user_id\n",
            "405    737\n",
            "655    685\n",
            "13     636\n",
            "450    540\n",
            "276    518\n",
            "416    493\n",
            "537    490\n",
            "303    484\n",
            "234    480\n",
            "393    448\n",
            "Name: count, dtype: int64\n"
          ]
        }
      ]
    },
    {
      "cell_type": "markdown",
      "source": [
        "**Missing Values**"
      ],
      "metadata": {
        "id": "eo0gA-ztPvK5"
      }
    },
    {
      "cell_type": "code",
      "source": [
        "# Check for missing values in df_ratings\n",
        "print(df_ratings.isnull().sum())\n",
        "\n",
        "# Check for missing values in df_movies\n",
        "print(df_movies.isnull().sum())\n"
      ],
      "metadata": {
        "colab": {
          "base_uri": "https://localhost:8080/"
        },
        "id": "f7IMhnteP4Kv",
        "outputId": "a71880f2-5a3e-495a-8822-520b6a1da09c"
      },
      "execution_count": 10,
      "outputs": [
        {
          "output_type": "stream",
          "name": "stdout",
          "text": [
            "user_id      0\n",
            "movie_id     0\n",
            "rating       0\n",
            "timestamp    0\n",
            "dtype: int64\n",
            "movie_id    0\n",
            "title       0\n",
            "dtype: int64\n"
          ]
        }
      ]
    },
    {
      "cell_type": "markdown",
      "source": [
        "**Duplicated data**\n"
      ],
      "metadata": {
        "id": "DEkjxJ3tP72S"
      }
    },
    {
      "cell_type": "code",
      "source": [
        "# Check for missing values in df_ratings\n",
        "print(df_ratings.duplicated().sum())\n",
        "\n",
        "# Check for missing values in df_movies\n",
        "print(df_movies.duplicated().sum())"
      ],
      "metadata": {
        "colab": {
          "base_uri": "https://localhost:8080/"
        },
        "id": "IqFl2mz6QCDL",
        "outputId": "dfdc20fb-f442-4389-c577-4af3f5458e34"
      },
      "execution_count": 11,
      "outputs": [
        {
          "output_type": "stream",
          "name": "stdout",
          "text": [
            "0\n",
            "0\n"
          ]
        }
      ]
    },
    {
      "cell_type": "markdown",
      "source": [
        "# **Creating User-Item Matrix**"
      ],
      "metadata": {
        "id": "40VFLwFTQ9pK"
      }
    },
    {
      "cell_type": "markdown",
      "source": [
        "user_item_matrix : Each row represents a user and each column represents a movie. The values are the ratings given by users to movies."
      ],
      "metadata": {
        "id": "rqA7fqgrUXwX"
      }
    },
    {
      "cell_type": "code",
      "source": [
        "# Create a user-item matrix where rows are users and columns are movies\n",
        "user_item_matrix = df_ratings.pivot(index='user_id', columns='movie_id', values='rating').fillna(0)\n"
      ],
      "metadata": {
        "id": "DdeLsZn6BSVB"
      },
      "execution_count": 12,
      "outputs": []
    },
    {
      "cell_type": "markdown",
      "source": [
        "Creating the user_item_matrix is a fundamental step in building recommendation systems, particularly when using collaborative filtering techniques"
      ],
      "metadata": {
        "id": "aUvEiTK9S8Ss"
      }
    },
    {
      "cell_type": "code",
      "source": [
        "print(user_item_matrix.head())\n",
        "print(user_item_matrix.shape)"
      ],
      "metadata": {
        "colab": {
          "base_uri": "https://localhost:8080/"
        },
        "id": "oOthev9GCbU5",
        "outputId": "728843db-3dcc-432b-b738-38b894f87394"
      },
      "execution_count": 13,
      "outputs": [
        {
          "output_type": "stream",
          "name": "stdout",
          "text": [
            "movie_id  1     2     3     4     5     6     7     8     9     10    ...  \\\n",
            "user_id                                                               ...   \n",
            "1          5.0   3.0   4.0   3.0   3.0   5.0   4.0   1.0   5.0   3.0  ...   \n",
            "2          4.0   0.0   0.0   0.0   0.0   0.0   0.0   0.0   0.0   2.0  ...   \n",
            "3          0.0   0.0   0.0   0.0   0.0   0.0   0.0   0.0   0.0   0.0  ...   \n",
            "4          0.0   0.0   0.0   0.0   0.0   0.0   0.0   0.0   0.0   0.0  ...   \n",
            "5          4.0   3.0   0.0   0.0   0.0   0.0   0.0   0.0   0.0   0.0  ...   \n",
            "\n",
            "movie_id  1673  1674  1675  1676  1677  1678  1679  1680  1681  1682  \n",
            "user_id                                                               \n",
            "1          0.0   0.0   0.0   0.0   0.0   0.0   0.0   0.0   0.0   0.0  \n",
            "2          0.0   0.0   0.0   0.0   0.0   0.0   0.0   0.0   0.0   0.0  \n",
            "3          0.0   0.0   0.0   0.0   0.0   0.0   0.0   0.0   0.0   0.0  \n",
            "4          0.0   0.0   0.0   0.0   0.0   0.0   0.0   0.0   0.0   0.0  \n",
            "5          0.0   0.0   0.0   0.0   0.0   0.0   0.0   0.0   0.0   0.0  \n",
            "\n",
            "[5 rows x 1682 columns]\n",
            "(943, 1682)\n"
          ]
        }
      ]
    },
    {
      "cell_type": "markdown",
      "source": [
        "# **cosine_similarity**"
      ],
      "metadata": {
        "id": "gi95yzRAUe13"
      }
    },
    {
      "cell_type": "code",
      "source": [
        "# Calculate cosine similarity between users\n",
        "user_similarity = cosine_similarity(user_item_matrix)\n"
      ],
      "metadata": {
        "id": "6DAJNgykB1Y0"
      },
      "execution_count": 14,
      "outputs": []
    },
    {
      "cell_type": "markdown",
      "source": [
        "cosine_similarity : Calculates the cosine similarity between the vectors of each user."
      ],
      "metadata": {
        "id": "zkQMYJMCWGmi"
      }
    },
    {
      "cell_type": "markdown",
      "source": [
        "# **Recommendation based on collaborative filtering**"
      ],
      "metadata": {
        "id": "_2cogyHcXrXM"
      }
    },
    {
      "cell_type": "markdown",
      "source": [
        "\n",
        "* user_idx : Index of the user for whom we are making recommendations.  \n",
        "* user_scores : Movie scores calculated based on user similarity.\n",
        "\n",
        "* top_indices : Indices of the highest scored movies.\n",
        "* top_movie_ids : IDs of the recommended movies.\n",
        "* recommend_movies : Function to recommend movies based on user similarity."
      ],
      "metadata": {
        "id": "0u8ZYQvMXpmo"
      }
    },
    {
      "cell_type": "code",
      "source": [
        "def recommend_movies(user_id, user_item_matrix, user_similarity, df_movies, top_n=10):\n",
        "    user_idx = user_item_matrix.index.get_loc(user_id)  # Find the index of the user\n",
        "    user_scores = user_similarity[user_idx].dot(user_item_matrix) / np.array([np.abs(user_similarity[user_idx]).sum(axis=0)])  # Calculate movie scores\n",
        "    top_indices = user_scores.argsort()[::-1][:top_n]  # Get the indices of the highest scored movies\n",
        "    top_movie_ids = user_item_matrix.columns[top_indices]  # Get the IDs of the recommended movies\n",
        "    return df_movies[df_movies['movie_id'].isin(top_movie_ids)]['title']  # Return the titles of the recommended movies\n",
        "\n",
        "# Recommend movies for user 1\n",
        "\n",
        "print(\"Recommend movies for user 1\")\n",
        "recommendations = recommend_movies(1, user_item_matrix, user_similarity, df_movies)\n",
        "print(recommendations)\n",
        "\n",
        "# Recommend movies for user 300\n",
        "\n",
        "print(\"\\n Recommend movies for user 300\")\n",
        "recommendations = recommend_movies(300, user_item_matrix, user_similarity, df_movies)\n",
        "print(recommendations)\n"
      ],
      "metadata": {
        "colab": {
          "base_uri": "https://localhost:8080/"
        },
        "id": "Smu1w2hIB1WD",
        "outputId": "4a1ab9a2-9269-4fbe-fa00-b66e3d7d928a"
      },
      "execution_count": 15,
      "outputs": [
        {
          "output_type": "stream",
          "name": "stdout",
          "text": [
            "Recommend movies for user 1\n",
            "0                      Toy Story (1995)\n",
            "49                     Star Wars (1977)\n",
            "55                  Pulp Fiction (1994)\n",
            "97     Silence of the Lambs, The (1991)\n",
            "99                         Fargo (1996)\n",
            "126               Godfather, The (1972)\n",
            "171     Empire Strikes Back, The (1980)\n",
            "172          Princess Bride, The (1987)\n",
            "173      Raiders of the Lost Ark (1981)\n",
            "180           Return of the Jedi (1983)\n",
            "Name: title, dtype: object\n",
            "\n",
            " Recommend movies for user 300\n",
            "49                Star Wars (1977)\n",
            "99                    Fargo (1996)\n",
            "180      Return of the Jedi (1983)\n",
            "257                 Contact (1997)\n",
            "285    English Patient, The (1996)\n",
            "287                  Scream (1996)\n",
            "293               Liar Liar (1997)\n",
            "299           Air Force One (1997)\n",
            "312                 Titanic (1997)\n",
            "327       Conspiracy Theory (1997)\n",
            "Name: title, dtype: object\n"
          ]
        }
      ]
    },
    {
      "cell_type": "markdown",
      "source": [
        "# **Recommendation Based on Content Filtering**"
      ],
      "metadata": {
        "id": "Pr3FnuJEbqat"
      }
    },
    {
      "cell_type": "code",
      "source": [
        "\n",
        "\n",
        "\n",
        "# Load movie details\n",
        "movie_cols = ['movie_id', 'title', 'release_date', 'video_release_date', 'imdb_url', 'unknown', 'Action', 'Adventure', 'Animation',\n",
        "              'Children', 'Comedy', 'Crime', 'Documentary', 'Drama', 'Fantasy', 'Film-Noir', 'Horror', 'Musical', 'Mystery',\n",
        "              'Romance', 'Sci-Fi', 'Thriller', 'War', 'Western']\n",
        "df_movies = pd.read_csv('u.item', sep='|', encoding='latin-1', names=movie_cols, usecols=range(24))\n",
        "\n",
        "# Create a 'genres' column by concatenating the genre names for each movie\n",
        "genre_columns = movie_cols[5:]\n",
        "df_movies['genres'] = df_movies[genre_columns].apply(lambda x: ' '.join([genre for genre in genre_columns if x[genre] == 1]), axis=1)\n",
        "\n",
        "# Fill any missing genre information with an empty string\n",
        "df_movies['genres'] = df_movies['genres'].fillna('')\n",
        "\n",
        "# Initialize the TF-IDF vectorizer\n",
        "tfidf = TfidfVectorizer(stop_words='english')\n",
        "\n",
        "# Transform the genres into TF-IDF vectors\n",
        "tfidf_matrix = tfidf.fit_transform(df_movies['genres'])\n",
        "\n",
        "# Compute cosine similarity matrix\n",
        "cosine_sim = linear_kernel(tfidf_matrix, tfidf_matrix)\n",
        "\n",
        "# Function to recommend movies based on content similarity\n",
        "def recommend_movies_content_based(movie_title, df_movies, cosine_sim, top_n=10):\n",
        "    idx = df_movies[df_movies['title'] == movie_title].index[0]\n",
        "    sim_scores = list(enumerate(cosine_sim[idx]))\n",
        "    sim_scores = sorted(sim_scores, key=lambda x: x[1], reverse=True)\n",
        "    sim_scores = sim_scores[1:top_n+1]\n",
        "    movie_indices = [i[0] for i in sim_scores]\n",
        "    return df_movies['title'].iloc[movie_indices]\n",
        "\n",
        "# Example: Recommend movies similar to 'Star Wars (1977)'\n",
        "content_recommendations = recommend_movies_content_based('Star Wars (1977)', df_movies, cosine_sim)\n",
        "print(content_recommendations)\n",
        "\n"
      ],
      "metadata": {
        "colab": {
          "base_uri": "https://localhost:8080/"
        },
        "id": "CMQ3n8DjWy-E",
        "outputId": "dd96f22e-5f8e-4576-c425-4574a90d4632"
      },
      "execution_count": 17,
      "outputs": [
        {
          "output_type": "stream",
          "name": "stdout",
          "text": [
            "180                        Return of the Jedi (1983)\n",
            "171                  Empire Strikes Back, The (1980)\n",
            "270                         Starship Troopers (1997)\n",
            "120                    Independence Day (ID4) (1996)\n",
            "234                             Mars Attacks! (1996)\n",
            "61                                   Stargate (1994)\n",
            "81                              Jurassic Park (1993)\n",
            "221                  Star Trek: First Contact (1996)\n",
            "226    Star Trek VI: The Undiscovered Country (1991)\n",
            "227              Star Trek: The Wrath of Khan (1982)\n",
            "Name: title, dtype: object\n"
          ]
        }
      ]
    },
    {
      "cell_type": "code",
      "source": [
        "content_recommendations = recommend_movies_content_based('Toy Story (1995)', df_movies, cosine_sim)\n",
        "print(content_recommendations)\n"
      ],
      "metadata": {
        "colab": {
          "base_uri": "https://localhost:8080/"
        },
        "id": "cQVHs25JyHNl",
        "outputId": "f07ab5d5-ff76-4f95-f331-7982c87e13f2"
      },
      "execution_count": 19,
      "outputs": [
        {
          "output_type": "stream",
          "name": "stdout",
          "text": [
            "421                Aladdin and the King of Thieves (1996)\n",
            "101                                Aristocats, The (1970)\n",
            "403                                      Pinocchio (1940)\n",
            "624                        Sword in the Stone, The (1963)\n",
            "945                         Fox and the Hound, The (1981)\n",
            "968           Winnie the Pooh and the Blustery Day (1968)\n",
            "1065                                         Balto (1995)\n",
            "1077                              Oliver & Company (1988)\n",
            "1408                            Swan Princess, The (1994)\n",
            "1411    Land Before Time III: The Time of the Great Gi...\n",
            "Name: title, dtype: object\n"
          ]
        }
      ]
    },
    {
      "cell_type": "code",
      "source": [],
      "metadata": {
        "id": "3Fi2vmTGyMzv"
      },
      "execution_count": null,
      "outputs": []
    }
  ]
}